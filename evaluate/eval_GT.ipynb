{
 "cells": [
  {
   "cell_type": "markdown",
   "metadata": {},
   "source": [
    "# Evaluate our methods's search performance"
   ]
  },
  {
   "cell_type": "code",
   "execution_count": 17,
   "metadata": {},
   "outputs": [
    {
     "name": "stdout",
     "output_type": "stream",
     "text": [
      "The autoreload extension is already loaded. To reload it, use:\n",
      "  %reload_ext autoreload\n"
     ]
    }
   ],
   "source": [
    "%load_ext autoreload\n",
    "%autoreload 2\n",
    "\n",
    "import sys\n",
    "sys.path.insert(0, '../Wormholes') # where the wormholes package is\n",
    "from pathlib import Path\n",
    "\n",
    "from wormholes import *\n",
    "from wormholes.perturb import *\n",
    "from wormholes.tools.triplets_vis_tools import *\n",
    "import matplotlib.pyplot as plt\n",
    "from argparse import Namespace\n",
    "\n",
    "import torch.nn.functional as F\n",
    "from torch.distributions import Categorical\n",
    "from tqdm import tqdm\n"
   ]
  },
  {
   "cell_type": "code",
   "execution_count": 2,
   "metadata": {},
   "outputs": [
    {
     "name": "stdout",
     "output_type": "stream",
     "text": [
      "=> loading checkpoint '/home/young/workspace/reconstruction/Wormholes/checkpoints/imagenet_vanilla_v2.pt'\n",
      "=> loaded checkpoint '/home/young/workspace/reconstruction/Wormholes/checkpoints/imagenet_vanilla_v2.pt' (epoch 171)\n"
     ]
    }
   ],
   "source": [
    "# load the viewer\n",
    "exp_root = f\"{PROJECT_ROOT}/results/cache/gen_v10-our\"\n",
    "viewer = TripletViewerMetaTokensSearch(f\"{exp_root}/meta_job0.nc\")\n",
    "\n",
    "# load subject model (vanilla CNN)\n",
    "from wormholes.perturb.utils import *\n",
    "imagenet_ds = RestrictedImageNet(f\"{PROJECT_ROOT}/data/ilsvrc\")\n",
    "get_mapped_RIN = lambda resume_name: get_restricted_imagenet_mapped_model(arch='resnet50', \n",
    "                                                                  restricted_imagenet_ds=imagenet_ds, \n",
    "                                                                  pytorch_pretrained=False, \n",
    "                                                                  resume_path=f\"{PROJECT_ROOT}/checkpoints/{resume_name}\")[0].eval()\n",
    "\n",
    "\n",
    "model_subject_maker = partial(get_mapped_RIN, 'imagenet_vanilla_v2.pt')\n",
    "model_subject = model_subject_maker().eval()\n",
    "\n",
    "\n"
   ]
  },
  {
   "cell_type": "code",
   "execution_count": 18,
   "metadata": {},
   "outputs": [
    {
     "name": "stdout",
     "output_type": "stream",
     "text": [
      "# of displays: 2000\n"
     ]
    }
   ],
   "source": [
    "# load display info\n",
    "source_dir  = Path(f\"{PROJECT_ROOT}/exp-source\")\n",
    "display_info= np.load(source_dir/'display_info.npy', allow_pickle=True)\n",
    "print('# of displays:', len(display_info))"
   ]
  },
  {
   "cell_type": "code",
   "execution_count": 10,
   "metadata": {},
   "outputs": [
    {
     "name": "stderr",
     "output_type": "stream",
     "text": [
      "  0%|          | 0/2000 [00:00<?, ?it/s]"
     ]
    },
    {
     "name": "stderr",
     "output_type": "stream",
     "text": [
      "100%|██████████| 2000/2000 [38:36<00:00,  1.16s/it]"
     ]
    },
    {
     "name": "stdout",
     "output_type": "stream",
     "text": [
      "priority our correct 781/1000, 0.781, for foveated\n",
      "turtle: # of data 250, mean acc: 0.692\n",
      "dog: # of data 250, mean acc: 0.82\n",
      "bird: # of data 250, mean acc: 0.908\n",
      "insect: # of data 250, mean acc: 0.704\n",
      "entropy:\n",
      "# low  1.3687642097473145 400 # high  1.3824200868606566 400\n",
      "average value  1.3748910565376282\n"
     ]
    },
    {
     "name": "stderr",
     "output_type": "stream",
     "text": [
      "\n"
     ]
    },
    {
     "data": {
      "image/png": "[encoded data removed]",
      "text/plain": [
       "<Figure size 640x480 with 1 Axes>"
      ]
     },
     "metadata": {},
     "output_type": "display_data"
    },
    {
     "name": "stdout",
     "output_type": "stream",
     "text": [
      "(2000,)\n"
     ]
    }
   ],
   "source": [
    "\n",
    "# load the setup\n",
    "img_resolution = 'clean' #'foveated' or 'clean' or 'blurred'\n",
    "budget = 40 # budget used to generate the modified images\n",
    "model_name = 'resnet50_robust_mapped_RIN_l2_3_0' # model used to generate the modified images\n",
    "save_viewer_results = Path(f\"{PROJECT_ROOT}/exp-source/viewer_results\")\n",
    "\n",
    "target_label ='all' #'all' or 'turtle', 'dog', 'bird', 'insect'\n",
    "if target_label == 'all':\n",
    "    display_info_target = [info for info in display_info if info['target_label'] != 'cat'] # cat is not part of evaluation, just for generating practice trials\n",
    "else:\n",
    "    display_info_target = [info for info in display_info if info['target_label'] == target_label]\n",
    "\n",
    "# n_images = 10\n",
    "n_images = len(display_info_target) # all\n",
    "\n",
    "our_results = []\n",
    "for info in tqdm(display_info_target[:n_images]):\n",
    "    display_idx = info['display_idx']\n",
    "    display_filename = info['display_filename']\n",
    "\n",
    "    dict_true = dict(budget=budget,\n",
    "                    model_name=model_name, \n",
    "                    target_class_name = info['target_label'],\n",
    "                    )\n",
    "\n",
    "    dict_false = dict()\n",
    "\n",
    "    results = viewer(dict_true, dict_false, \n",
    "                    n_select=4, \n",
    "                    include_files =  ['/'.join(str(path).split('/')[2:]) for path in info[f'{img_resolution}_objlist']], # None or list of files to include\n",
    "                    exclude_files = None, # None or list of files to exclude\n",
    "                    model_subject= model_subject,\n",
    "                    title=model_name.replace('_', ' '),\n",
    "                    filename= save_viewer_results/f'{display_filename}_{img_resolution}.png',\n",
    "                    visualize=False, \n",
    "\n",
    "    )\n",
    "\n",
    "    plt.show()\n",
    "\n",
    "    # add acc and priority value\n",
    "    results['display_idx'] = display_idx\n",
    "    if info['condition'] == 'TP':\n",
    "        results['our_acc'] = 1 if np.argmin(results['budget_usage']) == info['target_idx_in_objlist'] else 0\n",
    "    else:\n",
    "        results['our_acc'] = None\n",
    "    results['our_priority_value'] =  F.softmax(torch.tensor(-np.array(results['budget_usage'])), dim=0).tolist()\n",
    "    results['entropy'] =  Categorical(probs = torch.Tensor(results['our_priority_value'])).entropy().item()\n",
    "    our_results.append(results)\n",
    "\n",
    "\n",
    "# print acc and priority results\n",
    "accs = [results['our_acc'] for results in our_results if results['our_acc'] is not None]\n",
    "print(f'priority our correct {np.sum(accs).round(3)}/{len(accs)}, {np.mean(accs).round(3)}, for {img_resolution}')\n",
    "\n",
    "for target in ['turtle', 'dog', 'bird', 'insect']:\n",
    "    target_display_indices = []\n",
    "    for info in display_info:\n",
    "        if info['condition']=='TP' and info['target_label'] == target:\n",
    "            target_display_indices.append(info['display_idx'])\n",
    "\n",
    "    target_accs = [results['our_acc'] for results in our_results if results['display_idx'] in target_display_indices]\n",
    "    print(f'{target}: # of data {len(target_accs)}, mean acc: {np.mean(target_accs)}')\n",
    "\n",
    "\n",
    "# draw distribution of entropy and assign categorial class (top 20% and bottom 20%)\n",
    "from scripts.entropyclass import get_entropy_class\n",
    "print('entropy:')\n",
    "all_entropy = []\n",
    "for result in our_results:\n",
    "    all_entropy.append(result['entropy'])\n",
    "\n",
    "entropy_classes = get_entropy_class(np.array(all_entropy))\n",
    "for i, result in enumerate(our_results):\n",
    "    result['entropy_class'] = entropy_classes[i]\n"
   ]
  },
  {
   "cell_type": "code",
   "execution_count": 13,
   "metadata": {},
   "outputs": [
    {
     "name": "stdout",
     "output_type": "stream",
     "text": [
      "our results saved\n"
     ]
    }
   ],
   "source": [
    "# save our results\n",
    "save_path = Path(f'../exp-source/our_results_{img_resolultion}.npy')\n",
    "if save_path.exists():\n",
    "    raise ValueError('file exists')\n",
    "\n",
    "np.save(save_path, our_results, allow_pickle=True)\n",
    "print('our results saved')"
   ]
  },
  {
   "cell_type": "markdown",
   "metadata": {},
   "source": [
    "# generate modified displays and target maps"
   ]
  },
  {
   "cell_type": "code",
   "execution_count": 53,
   "metadata": {},
   "outputs": [],
   "source": [
    "import matplotlib.colors as mcolors\n",
    "from torchvision.transforms.functional import gaussian_blur"
   ]
  },
  {
   "cell_type": "code",
   "execution_count": 58,
   "metadata": {},
   "outputs": [
    {
     "name": "stdout",
     "output_type": "stream",
     "text": [
      "# of displays clean: 2000\n"
     ]
    }
   ],
   "source": [
    "# load display info and our results\n",
    "img_resolution = 'clean' #'foveated' or 'clean' or 'blurred'\n",
    "source_dir  = Path(f\"{PROJECT_ROOT}/exp-source\")\n",
    "modified_dir =  Path(f'{PROJECT_ROOT}/results/cache/gen_v10-our/images')\n",
    "display_info = np.load(source_dir/'display_info.npy', allow_pickle=True)\n",
    "display_info = [info for info in display_info if info['target_label'] != 'cat']\n",
    "print(f'# of displays {img_resolution}:', len(display_info))\n",
    "our_results = np.load(Path(f'../exp-source/our_results_{img_resolution}.npy'), allow_pickle=True)\n",
    "\n",
    "# screen info\n",
    "screen_size = (1680, 1050)\n",
    "BACKGROUND_COLOR= 128\n"
   ]
  },
  {
   "cell_type": "code",
   "execution_count": 61,
   "metadata": {},
   "outputs": [
    {
     "name": "stderr",
     "output_type": "stream",
     "text": [
      "  0%|          | 0/2000 [00:00<?, ?it/s]"
     ]
    },
    {
     "name": "stderr",
     "output_type": "stream",
     "text": [
      "100%|██████████| 2000/2000 [12:28<00:00,  2.67it/s] \n"
     ]
    }
   ],
   "source": [
    "SAVE_OUTPUT = True\n",
    "VISUALIZE = False\n",
    "\n",
    "if SAVE_OUTPUT:\n",
    "    SAVE_DIR_MODIFIED = source_dir/f'display_{img_resolution}_modified'\n",
    "    SAVE_DIR_MODIFIED.mkdir(exist_ok=True)\n",
    "    SAVE_DIR_PIXELDIFF = source_dir/f'our_pixeldiff_maps_{img_resolution}'\n",
    "    SAVE_DIR_PIXELDIFF.mkdir(exist_ok=True)\n",
    "    SAVE_DIR_PRIORITY = source_dir/f'our_priority_maps_{img_resolution}'\n",
    "    SAVE_DIR_PRIORITY.mkdir(exist_ok=True)\n",
    "    \n",
    "\n",
    "for info in tqdm(display_info):\n",
    "    # if info['display_idx']!=381:#370\n",
    "    #     continue\n",
    "    results = list(filter(lambda x: x['display_idx']==info['display_idx'], our_results))[0]\n",
    "    fig, axs = plt.subplots(1, 4, figsize=(12, 3))\n",
    "\n",
    "    # load original display\n",
    "    orig_display = Image.open(source_dir/'display_clean'/str(info['display_filename']+'.png'))\n",
    "    axs[0].imshow(orig_display)\n",
    "\n",
    "    # modified display\n",
    "    mod_display = np.full((min(screen_size),min(screen_size),3), BACKGROUND_COLOR, dtype=np.uint8)\n",
    "    for object_path, bbox in zip(results['modified_objlist'], info['bboxlist']):\n",
    "        # original object size\n",
    "        xmin, ymin, xmax, ymax = bbox\n",
    "        orig_width = xmax-xmin\n",
    "        orig_height = ymax-ymin\n",
    "\n",
    "        # add modified object\n",
    "        modified_object = Image.open(object_path) \n",
    "        mod_width, mod_height = modified_object.size  # it's resized to 256, then center cropped to fit the model to 224, so we have to resize it back to the original size \n",
    "        padded_object = Image.new('RGB', (256, 256), color=(BACKGROUND_COLOR, BACKGROUND_COLOR, BACKGROUND_COLOR))\n",
    "        padded_object.paste(modified_object, ((orig_width-mod_width)// 2, (orig_height-mod_height)// 2))\n",
    "        padded_object = padded_object.resize((orig_width, orig_height))\n",
    "        mod_display[ymin:ymax, xmin:xmax] = padded_object\n",
    "\n",
    "\n",
    "    axs[1].imshow(mod_display)\n",
    "\n",
    "    # get difference map (reconstruction cost)\n",
    "    squared_diff = (np.array(mod_display)-np.array(orig_display))**2\n",
    "    # axs[2].imshow(squared_diff)\n",
    "    squared_diff_value = mcolors.rgb_to_hsv(squared_diff)[:, :, 2] # change to HSV (Hue, Saturation, Value), and use only Value (brightness)\n",
    "    axs[2].imshow(squared_diff_value, cmap='gist_gray')\n",
    "\n",
    "    #costmap = gaussian_blur(Image.fromarray(squared_diff_value), kernel_size=(81, 81), sigma=(21, 21))\n",
    "    norm_diff = (squared_diff_value - squared_diff_value.min()) / (squared_diff_value.max() - squared_diff_value.min())\n",
    "    gamma = 20.0  # or choose any gamma > 1 to amplify high values\n",
    "    amplified_diff = norm_diff ** gamma\n",
    "    costmap = gaussian_blur(Image.fromarray((amplified_diff * 255).astype(np.uint8)),  kernel_size=(31, 31), sigma=(6, 6))\n",
    "    norm_diff = (np.array(costmap) - np.array(costmap).min()) / (np.array(costmap).max() - np.array(costmap).min())\n",
    "    costmap = (norm_diff*255).astype(np.uint8)\n",
    "\n",
    "\n",
    "    #costmap = gaussian_blur(Image.fromarray(squared_diff_value), kernel_size=(31, 31), sigma=(5, 5))\n",
    "    axs[3].imshow(np.array(costmap), cmap='gist_gray', interpolation='nearest')# cmap='gist_gray_r') #'gray'cmap='coolwarm'\n",
    "\n",
    "    if SAVE_OUTPUT:\n",
    "        Image.fromarray(np.array(mod_display)).save(SAVE_DIR_MODIFIED/f'{info[\"display_filename\"]}.png')\n",
    "        Image.fromarray(np.array(squared_diff_value)).convert('RGB').save(SAVE_DIR_PIXELDIFF/f'{info[\"display_filename\"]}.png')\n",
    "        Image.fromarray(np.array(costmap)).convert('RGB').save(SAVE_DIR_PRIORITY/f'{info[\"display_filename\"]}.png')\n",
    "         \n",
    "    # pretify figure\n",
    "    for ax in axs:\n",
    "        ax.axis('off')\n",
    "\n",
    "    if VISUALIZE:\n",
    "        plt.tight_layout()\n",
    "        plt.show()\n",
    "    else:\n",
    "        plt.close()\n",
    "\n",
    "\n",
    "# Image.fromarray(np.array(costmap)).convert('RGB').save(f'../figures/savefig/{info[\"display_filename\"]}.png')"
   ]
  },
  {
   "cell_type": "code",
   "execution_count": 48,
   "metadata": {},
   "outputs": [],
   "source": [
    "# Image.fromarray(np.array(costmap)).convert('RGB').save(f'../figures/savefig/{info[\"display_filename\"]}.png')"
   ]
  },
  {
   "cell_type": "code",
   "execution_count": null,
   "metadata": {},
   "outputs": [
    {
     "data": {
      "text/plain": [
       "{'display_idx': 2099,\n",
       " 'display_filename': 'TA_insect_d2099',\n",
       " 'condition': 'TA',\n",
       " 'target_label': 'insect',\n",
       " 'target_index': 8,\n",
       " 'clean_objlist': ['../data/imagenet_val_segmented_resized/nontarget/n01943899_ILSVRC2012_val_00040963.JPEG',\n",
       "  '../data/imagenet_val_segmented_resized/nontarget/n07753113_ILSVRC2012_val_00038688.JPEG',\n",
       "  '../data/imagenet_val_segmented_resized/nontarget/n03770679_ILSVRC2012_val_00041846.JPEG',\n",
       "  '../data/imagenet_val_segmented_resized/nontarget/n04380533_ILSVRC2012_val_00002264.JPEG'],\n",
       " 'foveated_objlist': ['../data/imagenet_val_segmented_resized_foveated/nontarget/TA_insect_d2099-b0-n01943899_ILSVRC2012_val_00040963.JPEG',\n",
       "  '../data/imagenet_val_segmented_resized_foveated/nontarget/TA_insect_d2099-b1-n07753113_ILSVRC2012_val_00038688.JPEG',\n",
       "  '../data/imagenet_val_segmented_resized_foveated/nontarget/TA_insect_d2099-b2-n03770679_ILSVRC2012_val_00041846.JPEG',\n",
       "  '../data/imagenet_val_segmented_resized_foveated/nontarget/TA_insect_d2099-b3-n04380533_ILSVRC2012_val_00002264.JPEG'],\n",
       " 'target_idx_in_objlist': None,\n",
       " 'bboxlist': [[169, 121, 409, 361],\n",
       "  [121, 640, 361, 880],\n",
       "  [640, 688, 880, 928],\n",
       "  [688, 169, 928, 409]],\n",
       " 'blurred_objlist': ['../data/imagenet_val_segmented_resized_blurred/nontarget/blurred-n01943899_ILSVRC2012_val_00040963.JPEG',\n",
       "  '../data/imagenet_val_segmented_resized_blurred/nontarget/blurred-n07753113_ILSVRC2012_val_00038688.JPEG',\n",
       "  '../data/imagenet_val_segmented_resized_blurred/nontarget/blurred-n03770679_ILSVRC2012_val_00041846.JPEG',\n",
       "  '../data/imagenet_val_segmented_resized_blurred/nontarget/blurred-n04380533_ILSVRC2012_val_00002264.JPEG']}"
      ]
     },
     "metadata": {},
     "output_type": "display_data"
    }
   ],
   "source": [
    "# # modify our results\n",
    "\n",
    "# import numpy as np\n",
    "# from scipy.special import softmax\n",
    "\n",
    "# load stimuli info with model priority\n",
    "# DIR_STIMULI = '../exp-source/exp_datasource/screen_images/'\n",
    "# TARGET_CATEGORIES = ['dog', 'bird', 'turtle', 'insect']\n",
    "\n",
    "# display_info =  np.load('../exp-source/display_info.npy', allow_pickle=True)\n",
    "# print('# of total stimuli: ', len(display_info))\n",
    "# display_info[0]\n",
    "\n",
    "# IMAGE_TYPE  = 'clean' # 'blurred', 'foveated', 'clean'\n",
    "# our_results =  np.load(f'../exp-source/our_results_{IMAGE_TYPE}.npy', allow_pickle=True)\n",
    "# our_results[0]\n",
    "\n",
    "# new_results = []\n",
    "# for res in our_results:\n",
    "#     display_idx = res['display_idx']\n",
    "#     info = list(filter(lambda x: x['display_idx'] == display_idx, display_info))[0]\n",
    "#     d_results = {}\n",
    "#     d_results['display_idx'] = display_idx\n",
    "#     d_results['display_filename'] = info['display_filename']\n",
    "#     d_results['condition'] = info['condition']\n",
    "#     d_results['target_label'] = info['target_label']\n",
    "#     d_results['target_index'] = info['target_index']\n",
    "#     d_results['view_sampling_seed'] = res['view_sampling_seed']\n",
    "#     d_results['original_objlist'] = ['../data/' + path for path in res['original_objlist']]\n",
    "#     d_results['modified_objlist'] = ['../results/cache/gen_v10/images/' + path for path in res['modified_objlist']]\n",
    "#     d_results['target_idx_in_objlist'] = info['target_idx_in_objlist']\n",
    "#     d_results['budget'] = res['budget']\n",
    "#     d_results['budget_usage'] = res['budget_usage']\n",
    "#     d_results['probs'] = list(softmax(-np.array(res['budget_usage'])))\n",
    "#     d_results['acc'] = res['our_acc']\n",
    "#     d_results['cnn_pred_logits_orig'] = res['cnn_pred_logits_orig']\n",
    "#     d_results['cnn_pred_logits_mod'] = res['cnn_pred_logits_mod']\n",
    "#     new_results.append(d_results)\n",
    "\n",
    "# print(len(new_results))\n",
    "# np.save(f'../exp-source/our_results_{IMAGE_TYPE}.npy', new_results)\n",
    "# print('saved!')\n"
   ]
  },
  {
   "cell_type": "code",
   "execution_count": null,
   "metadata": {},
   "outputs": [],
   "source": []
  }
 ],
 "metadata": {
  "kernelspec": {
   "display_name": "wormholes",
   "language": "python",
   "name": "wormholes"
  },
  "language_info": {
   "codemirror_mode": {
    "name": "ipython",
    "version": 3
   },
   "file_extension": ".py",
   "mimetype": "text/x-python",
   "name": "python",
   "nbconvert_exporter": "python",
   "pygments_lexer": "ipython3",
   "version": "3.9.18"
  }
 },
 "nbformat": 4,
 "nbformat_minor": 2
}
