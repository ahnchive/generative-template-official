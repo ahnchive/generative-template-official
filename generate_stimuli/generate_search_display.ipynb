{
 "cells": [
  {
   "cell_type": "code",
   "execution_count": 1,
   "metadata": {},
   "outputs": [],
   "source": [
    "from PIL import Image\n",
    "import math\n",
    "import random\n",
    "from pathlib import Path\n",
    "import os\n",
    "import matplotlib.pyplot as plt\n",
    "import numpy as np\n",
    "from retina_transform_v2 import foveat_img\n",
    "from tqdm import tqdm\n",
    "\n",
    "CATEGORIES = ['cat','dog', 'bird', 'turtle', 'insect']\n",
    " \n",
    "SCREEN_SIZE = (1680, 1050)\n",
    "BACKGROUND_COLOR= 128\n",
    "DISTANCE_FROM_CENTER =369 #  devided by 30 pixels = 12degree\n",
    "N_POSITIONS=4\n",
    "\n",
    "DIR_SOURCE = Path('../data/imagenet_val_segmented_resized')\n",
    "foveated_object_save_path = Path(str(DIR_SOURCE)+'_foveated')\n",
    "\n",
    "DIR_SAVE = Path('../exp-source')\n",
    "\n",
    "target2index = {'dog':0, 'cat':1, 'frog':2, 'turtle':3, 'bird':4,\n",
    "                'primate':5, 'fish':6, 'crab':7, 'insect':8}\n"
   ]
  },
  {
   "cell_type": "code",
   "execution_count": 2,
   "metadata": {},
   "outputs": [],
   "source": [
    "\n",
    "def generate_search_display(objectpathlist):\n",
    "    \n",
    "    # create base array\n",
    "    # base_array = Image.new(\"RGB\", (min(SCREEN_SIZE), min(SCREEN_SIZE)), (BACKGROUND_COLOR, BACKGROUND_COLOR, BACKGROUND_COLOR))\n",
    "    base_array = np.full((min(SCREEN_SIZE), min(SCREEN_SIZE), 3), BACKGROUND_COLOR, dtype=np.uint8)\n",
    "    base_center = int(base_array.shape[1] / 2)\n",
    "\n",
    "    random_float = random.random() * 0.25 # random float between 0 and 0.25 to add some randomness to the start positions\n",
    "    bboxlist = []\n",
    "\n",
    "    for n, objectpath in enumerate(objectpathlist):\n",
    "        # load object image\n",
    "        img_object = Image.open(objectpath)\n",
    "        h_object, w_object = img_object.size\n",
    "\n",
    "        # assign object locations, start at 12 o'clock and move counter-clockwise.\n",
    "        # object with position 0 will be the first one.\n",
    "        t = math.pi + n * (2 * math.pi / N_POSITIONS) + random_float * 2 * math.pi\n",
    "        pos = (base_center + DISTANCE_FROM_CENTER * math.cos(t), base_center + DISTANCE_FROM_CENTER * math.sin(t))\n",
    "\n",
    "        # get object bbox in 'xyxy format'\n",
    "        x_center, y_center = int(pos[1]), int(pos[0])\n",
    "        assert y_center >= (h_object / 2) and x_center >= (w_object / 2)\n",
    "        xmin, xmax = x_center - int(w_object / 2), x_center + int(h_object / 2)\n",
    "        ymin, ymax = y_center - int(h_object / 2), y_center + int(h_object / 2)\n",
    "\n",
    "        # insert object to base array\n",
    "        base_array[ymin:ymax, xmin:xmax] = img_object\n",
    "        bboxlist.append([xmin, ymin, xmax, ymax])\n",
    "\n",
    "    # # show base array\n",
    "    # plt.imshow(base_array)\n",
    "    # plt.show()\n",
    "    \n",
    "    return base_array, bboxlist"
   ]
  },
  {
   "cell_type": "code",
   "execution_count": 3,
   "metadata": {},
   "outputs": [],
   "source": [
    "\n",
    "turtle_TA_targets = [['cowboy_hat', 'n03124170'],\n",
    "['Dutch_oven', 'n03259280'],\n",
    "['gong', 'n03447721'],\n",
    "['honeycomb', 'n03530642'],\n",
    "['mailbag', 'n03709823'],\n",
    "['mortar', 'n03786901'],\n",
    "['broccoli', 'n07714990'],\n",
    "['hay', 'n07802026'],\n",
    "['platypus','n01873310'],\n",
    "['conch', 'n01943899'],\n",
    "['Arabian_camel', 'n02437312'],\n",
    "['shield', 'n04192698'],\n",
    "['shopping_basket', 'n04204238'],\n",
    "['tank', 'n04389033'],\n",
    "['stone_wall', 'n04326547'],\n",
    "['wok', 'n04596742'],\n",
    "['wooden_spoon', 'n04597913'],\n",
    "['guacamole', 'n07583066']]\n",
    "\n",
    "dog_TA_targets = [['chocolate_sauce', 'n07836838'],\n",
    "['dough', 'n07860988'],\n",
    "['meat_loaf', 'n07871810'],\n",
    "['potpie', 'n07875152'],\n",
    "['burrito', 'n07880968'],\n",
    "['armadillo', 'n02454379'],\n",
    "['cliff', 'n09246464'],\n",
    "['promontory', 'n09399592'],\n",
    "['gyromitra', 'n13037406'],\n",
    "['French_loaf', 'n07684084'],\n",
    "['bagel', 'n07693725'],\n",
    "['mashed_potato', 'n07711569'],\n",
    "['swab', 'n04367480'],\n",
    "['ice_cream', 'n07614500'],\n",
    "['velvet' , 'n04525038'],]\n",
    "\n",
    "bird_TA_targets = [['cup', 'n07930864'],    \n",
    "['coral_reef', 'n09256479'],\n",
    "['missile', 'n03773504'],\n",
    "['mitten', 'n03775071'],\n",
    "['pitcher', 'n03950228'],\n",
    "['poncho', 'n03980874'],\n",
    "['warplane', 'n04552348']]\n",
    "\n",
    "\n",
    "insect_TA_targets = [['hip', 'n12620546'],\n",
    "['buckeye', 'n12768682'],\n",
    "['crash_helmet', 'n03127747'],\n",
    "['knot', 'n03627232'],\n",
    "['screw', 'n04153751'],\n",
    "['crayfish', 'n01985128'],\n",
    "['tripod', 'n04485082'],\n",
    "['screwdriver', 'n04154565'],\n",
    "['spindle', 'n04277352'],\n",
    "['sleeping_bag', 'n04235860'],\n",
    "['whistle', 'n04579432']]\n",
    "\n",
    "\n",
    "turtle_TA_targets = [item[1] for item in turtle_TA_targets]\n",
    "dog_TA_targets = [item[1] for item in dog_TA_targets]\n",
    "bird_TA_targets = [item[1] for item in bird_TA_targets]\n",
    "insect_TA_targets = [item[1] for item in insect_TA_targets]\n",
    "\n",
    "confusing_targets = {\n",
    "    'turtle': turtle_TA_targets,\n",
    "    'dog': dog_TA_targets,\n",
    "    'bird': bird_TA_targets,\n",
    "    'insect': insect_TA_targets\n",
    "}\n"
   ]
  },
  {
   "cell_type": "code",
   "execution_count": 7,
   "metadata": {},
   "outputs": [
    {
     "name": "stdout",
     "output_type": "stream",
     "text": [
      "\n",
      "==== condition: TP ====\n",
      "start generating for target cat\n"
     ]
    },
    {
     "name": "stderr",
     "output_type": "stream",
     "text": [
      "100%|██████████| 50/50 [00:12<00:00,  4.04it/s]\n"
     ]
    },
    {
     "name": "stdout",
     "output_type": "stream",
     "text": [
      "start generating for target dog\n"
     ]
    },
    {
     "name": "stderr",
     "output_type": "stream",
     "text": [
      "100%|██████████| 250/250 [01:02<00:00,  4.03it/s]\n"
     ]
    },
    {
     "name": "stdout",
     "output_type": "stream",
     "text": [
      "start generating for target bird\n"
     ]
    },
    {
     "name": "stderr",
     "output_type": "stream",
     "text": [
      "100%|██████████| 250/250 [01:01<00:00,  4.04it/s]\n"
     ]
    },
    {
     "name": "stdout",
     "output_type": "stream",
     "text": [
      "start generating for target turtle\n"
     ]
    },
    {
     "name": "stderr",
     "output_type": "stream",
     "text": [
      "100%|██████████| 250/250 [01:02<00:00,  4.02it/s]\n"
     ]
    },
    {
     "name": "stdout",
     "output_type": "stream",
     "text": [
      "start generating for target insect\n"
     ]
    },
    {
     "name": "stderr",
     "output_type": "stream",
     "text": [
      "100%|██████████| 250/250 [01:01<00:00,  4.04it/s]\n"
     ]
    },
    {
     "name": "stdout",
     "output_type": "stream",
     "text": [
      "\n",
      "==== condition: TA ====\n",
      "start generating for target cat\n"
     ]
    },
    {
     "name": "stderr",
     "output_type": "stream",
     "text": [
      "100%|██████████| 50/50 [00:12<00:00,  4.01it/s]\n"
     ]
    },
    {
     "name": "stdout",
     "output_type": "stream",
     "text": [
      "start generating for target dog\n"
     ]
    },
    {
     "name": "stderr",
     "output_type": "stream",
     "text": [
      "100%|██████████| 250/250 [01:02<00:00,  4.00it/s]\n"
     ]
    },
    {
     "name": "stdout",
     "output_type": "stream",
     "text": [
      "start generating for target bird\n"
     ]
    },
    {
     "name": "stderr",
     "output_type": "stream",
     "text": [
      "100%|██████████| 250/250 [01:02<00:00,  4.00it/s]\n"
     ]
    },
    {
     "name": "stdout",
     "output_type": "stream",
     "text": [
      "start generating for target turtle\n"
     ]
    },
    {
     "name": "stderr",
     "output_type": "stream",
     "text": [
      "100%|██████████| 250/250 [01:02<00:00,  4.00it/s]\n"
     ]
    },
    {
     "name": "stdout",
     "output_type": "stream",
     "text": [
      "start generating for target insect\n"
     ]
    },
    {
     "name": "stderr",
     "output_type": "stream",
     "text": [
      "100%|██████████| 250/250 [01:02<00:00,  4.01it/s]"
     ]
    },
    {
     "name": "stdout",
     "output_type": "stream",
     "text": [
      "display_info saved!\n"
     ]
    },
    {
     "name": "stderr",
     "output_type": "stream",
     "text": [
      "\n"
     ]
    }
   ],
   "source": [
    "\n",
    "N_DISPLAY_PER_CATEGORY = 250\n",
    "\n",
    "# create paths to save foveated objects \n",
    "for cat in CATEGORIES+['nontarget']:\n",
    "    (foveated_object_save_path/cat).mkdir(parents=True, exist_ok=False)\n",
    "\n",
    "# create paths to save search displays\n",
    "clean_display_path = DIR_SAVE/f'display_clean'\n",
    "clean_display_path.mkdir(parents=True, exist_ok=False)\n",
    "foveated_display_path = DIR_SAVE/f'display_foveated'\n",
    "foveated_display_path.mkdir(parents=True, exist_ok=False)\n",
    "\n",
    "# generate displays\n",
    "display_info = []\n",
    "display_idx = 0\n",
    "for cond in ['TP', 'TA']:\n",
    "    print(f'\\n==== condition: {cond} ====')\n",
    "\n",
    "\n",
    "    for target in CATEGORIES:\n",
    "        print(f\"start generating for target {target}\")\n",
    "        targetpathlist = [DIR_SOURCE/target/file for file in os.listdir(DIR_SOURCE/target)]\n",
    "        nontargetpathlist = [DIR_SOURCE/'nontarget'/file for file in os.listdir(DIR_SOURCE/'nontarget')]\n",
    "        \n",
    "        if target == 'cat':\n",
    "            num_displays = 50\n",
    "        else:\n",
    "            num_displays = N_DISPLAY_PER_CATEGORY\n",
    "\n",
    "        for si in tqdm(range(num_displays)):\n",
    "            display_filename = f'{cond}_{target}_d{display_idx}'\n",
    "            \n",
    "            random_number = random.random()  # Generate a random number between 0 and 1\n",
    "            if random_number <= 0.2 and target != 'cat':  # 20% of the time\n",
    "                # sample a target object from target list, and non-target objects from nontarget list\n",
    "                if cond == 'TP':                \n",
    "                    selected_targetpathlist = random.sample(targetpathlist, 1)\n",
    "                    selected_nontargetpathlist = random.sample(nontargetpathlist, N_POSITIONS-1)\n",
    "                elif cond == 'TA':\n",
    "                    confusingtargetpathlist = [path for path in nontargetpathlist if str(path).split('/')[-1].split('_')[0] in confusing_targets[target]]\n",
    "                    selected_targetpathlist = random.sample(confusingtargetpathlist, 1)\n",
    "                    nontargetminusconfusinglist = list(set(nontargetpathlist) - set(confusingtargetpathlist))\n",
    "                    selected_nontargetpathlist = random.sample(nontargetminusconfusinglist, N_POSITIONS-1)\n",
    "\n",
    "            else:\n",
    "                # sample a target object from target list, and non-target objects from nontarget list\n",
    "                if cond == 'TP':                \n",
    "                    selected_targetpathlist = random.sample(targetpathlist, 1)\n",
    "                    selected_nontargetpathlist = random.sample(nontargetpathlist, N_POSITIONS-1)\n",
    "                elif cond == 'TA':\n",
    "                    selected_targetpathlist = []\n",
    "                    selected_nontargetpathlist = random.sample(nontargetpathlist, N_POSITIONS)\n",
    "\n",
    "            # full object list and shuffle\n",
    "            objectpathlist = selected_targetpathlist + selected_nontargetpathlist \n",
    "            assert len(objectpathlist) == N_POSITIONS\n",
    "            # random.shuffle(objectpathlist)\n",
    "            objectorderlist = list(range(N_POSITIONS))\n",
    "            random.shuffle(objectorderlist)\n",
    "            objectpathlist = list(np.array(objectpathlist)[objectorderlist])\n",
    "\n",
    "            # generate search display\n",
    "            display, bboxlist = generate_search_display(objectpathlist)\n",
    "            # display = cv2.cvtColor(display, cv2.COLOR_RGB2BGR)\n",
    "\n",
    "            # foveate search display\n",
    "            xc, yc = int(display.shape[1]/2), int(display.shape[0]/2)\n",
    "            display_foveated = foveat_img(display, [(xc, yc)], k=31, pixels_per_degree=31) # this yields around 997 center pixels are high resolution\n",
    "\n",
    "            # show output\n",
    "            # print(bbox)\n",
    "            # plt.imshow(display)\n",
    "            # plt.axis('off')\n",
    "            # plt.show()    \n",
    "            # plt.imshow(display_foveated)\n",
    "            # plt.axis('off')\n",
    "            # plt.show()  \n",
    "\n",
    "            # crop the areas of display using bbox and save each object image\n",
    "            foveated_objectpathlist = []\n",
    "            for idx_bbox, bbox in enumerate(bboxlist):\n",
    "                xmin, ymin, xmax, ymax = bbox\n",
    "                object = display_foveated[ymin:ymax, xmin:xmax]\n",
    "                object = Image.fromarray(object)\n",
    "                object_filename = f'{display_filename}-b{idx_bbox}-{str(objectpathlist[idx_bbox]).split(\"/\")[-1]}'\n",
    "                foveated_objectpath = foveated_object_save_path/str(objectpathlist[idx_bbox]).split(\"/\")[-2]/object_filename\n",
    "                object.save(foveated_objectpath)\n",
    "                foveated_objectpathlist.append(foveated_objectpath)\n",
    "\n",
    "            # save search displays\n",
    "            display = Image.fromarray(display)\n",
    "            display.save(clean_display_path/f'{display_filename}.png') \n",
    "            display_foveated = Image.fromarray(display_foveated)\n",
    "            display_foveated.save(foveated_display_path/f'{display_filename}_foveated.png') \n",
    "\n",
    "            # save display info\n",
    "            display_info.append({\n",
    "                'display_idx': display_idx,\n",
    "                'display_filename': display_filename,\n",
    "                'condition': cond,\n",
    "                'target_label': target,\n",
    "                'target_index': target2index[target],\n",
    "                \n",
    "                'clean_objlist': [str(path) for path in objectpathlist],\n",
    "                'foveated_objlist': [str(path) for path in foveated_objectpathlist],\n",
    "                'target_idx_in_objlist': objectorderlist.index(0) if cond == 'TP' else None,\n",
    "\n",
    "                'bboxlist': bboxlist,\n",
    "            })\n",
    "\n",
    "            # next index\n",
    "            display_idx += 1\n",
    "\n",
    "\n",
    "np.save(DIR_SAVE/'display_info.npy', display_info, allow_pickle=True)\n",
    "print('display_info saved!')\n"
   ]
  },
  {
   "cell_type": "markdown",
   "metadata": {},
   "source": [
    "# generate display using blurred objects"
   ]
  },
  {
   "cell_type": "code",
   "execution_count": 8,
   "metadata": {},
   "outputs": [
    {
     "name": "stdout",
     "output_type": "stream",
     "text": [
      "2100\n"
     ]
    },
    {
     "data": {
      "text/plain": [
       "{'display_idx': 0,\n",
       " 'display_filename': 'TP_cat_d0',\n",
       " 'condition': 'TP',\n",
       " 'target_label': 'cat',\n",
       " 'target_index': 1,\n",
       " 'clean_objlist': ['../data/imagenet_val_segmented_resized/nontarget/n04330267_ILSVRC2012_val_00023064.JPEG',\n",
       "  '../data/imagenet_val_segmented_resized/nontarget/n04597913_ILSVRC2012_val_00032112.JPEG',\n",
       "  '../data/imagenet_val_segmented_resized/cat/n02123045_ILSVRC2012_val_00005358.JPEG',\n",
       "  '../data/imagenet_val_segmented_resized/nontarget/n07753113_ILSVRC2012_val_00011675.JPEG'],\n",
       " 'foveated_objlist': ['../data/imagenet_val_segmented_resized_foveated/nontarget/TP_cat_d0-b0-n04330267_ILSVRC2012_val_00023064.JPEG',\n",
       "  '../data/imagenet_val_segmented_resized_foveated/nontarget/TP_cat_d0-b1-n04597913_ILSVRC2012_val_00032112.JPEG',\n",
       "  '../data/imagenet_val_segmented_resized_foveated/cat/TP_cat_d0-b2-n02123045_ILSVRC2012_val_00005358.JPEG',\n",
       "  '../data/imagenet_val_segmented_resized_foveated/nontarget/TP_cat_d0-b3-n07753113_ILSVRC2012_val_00011675.JPEG'],\n",
       " 'target_idx_in_objlist': 2,\n",
       " 'bboxlist': [[212, 90, 452, 330],\n",
       "  [90, 597, 330, 837],\n",
       "  [597, 719, 837, 959],\n",
       "  [719, 212, 959, 452]]}"
      ]
     },
     "execution_count": 8,
     "metadata": {},
     "output_type": "execute_result"
    }
   ],
   "source": [
    "# load used display info\n",
    "import numpy as np\n",
    "display_info = np.load('../exp-source/display_info.npy', allow_pickle=True)    \n",
    "print(len(display_info))\n",
    "display_info[0]"
   ]
  },
  {
   "cell_type": "code",
   "execution_count": 10,
   "metadata": {},
   "outputs": [
    {
     "name": "stderr",
     "output_type": "stream",
     "text": [
      "100%|██████████| 2100/2100 [01:22<00:00, 25.51it/s]\n"
     ]
    }
   ],
   "source": [
    "if not os.path.exists(DIR_SAVE/'display_blurred'):\n",
    "    os.makedirs(DIR_SAVE/'display_blurred')\n",
    "\n",
    "    \n",
    "# generate blurred object display\n",
    "for info in tqdm(display_info):\n",
    "    blurred_objpathlist = []\n",
    "    base_array = np.full((min(SCREEN_SIZE), min(SCREEN_SIZE), 3), BACKGROUND_COLOR, dtype=np.uint8)\n",
    "    for n, objpath in enumerate(info['clean_objlist']):\n",
    "        blurred_objdir = Path('/'.join(objpath.split('/')[:-1]).replace('imagenet_val_segmented_resized', 'imagenet_val_segmented_resized_blurred'))\n",
    "        blurred_objfilename = 'blurred-' + objpath.split('/')[-1]\n",
    "        blurred_objpath = blurred_objdir/blurred_objfilename\n",
    "        blurred_objpathlist.append(blurred_objpath)\n",
    "\n",
    "        img_object = Image.open(blurred_objpath)\n",
    "        xmin, ymin, xmax, ymax = info['bboxlist'][n]\n",
    "        base_array[ymin:ymax, xmin:xmax] = img_object\n",
    "        \n",
    "    # add info to display_info\n",
    "    info['blurred_objlist'] = blurred_objpathlist\n",
    "\n",
    "    # save blurred object display\n",
    "    base_array = Image.fromarray(base_array)\n",
    "    base_array.save(DIR_SAVE/'display_blurred'/f'{info[\"display_filename\"]}_blurred.png') \n",
    "\n"
   ]
  },
  {
   "cell_type": "code",
   "execution_count": 12,
   "metadata": {},
   "outputs": [
    {
     "data": {
      "text/plain": [
       "{'display_idx': 0,\n",
       " 'display_filename': 'TP_cat_d0',\n",
       " 'condition': 'TP',\n",
       " 'target_label': 'cat',\n",
       " 'target_index': 1,\n",
       " 'clean_objlist': ['../data/imagenet_val_segmented_resized/nontarget/n04330267_ILSVRC2012_val_00023064.JPEG',\n",
       "  '../data/imagenet_val_segmented_resized/nontarget/n04597913_ILSVRC2012_val_00032112.JPEG',\n",
       "  '../data/imagenet_val_segmented_resized/cat/n02123045_ILSVRC2012_val_00005358.JPEG',\n",
       "  '../data/imagenet_val_segmented_resized/nontarget/n07753113_ILSVRC2012_val_00011675.JPEG'],\n",
       " 'foveated_objlist': ['../data/imagenet_val_segmented_resized_foveated/nontarget/TP_cat_d0-b0-n04330267_ILSVRC2012_val_00023064.JPEG',\n",
       "  '../data/imagenet_val_segmented_resized_foveated/nontarget/TP_cat_d0-b1-n04597913_ILSVRC2012_val_00032112.JPEG',\n",
       "  '../data/imagenet_val_segmented_resized_foveated/cat/TP_cat_d0-b2-n02123045_ILSVRC2012_val_00005358.JPEG',\n",
       "  '../data/imagenet_val_segmented_resized_foveated/nontarget/TP_cat_d0-b3-n07753113_ILSVRC2012_val_00011675.JPEG'],\n",
       " 'target_idx_in_objlist': 2,\n",
       " 'bboxlist': [[212, 90, 452, 330],\n",
       "  [90, 597, 330, 837],\n",
       "  [597, 719, 837, 959],\n",
       "  [719, 212, 959, 452]],\n",
       " 'blurred_objlist': [PosixPath('../data/imagenet_val_segmented_resized_blurred/nontarget/blurred-n04330267_ILSVRC2012_val_00023064.JPEG'),\n",
       "  PosixPath('../data/imagenet_val_segmented_resized_blurred/nontarget/blurred-n04597913_ILSVRC2012_val_00032112.JPEG'),\n",
       "  PosixPath('../data/imagenet_val_segmented_resized_blurred/cat/blurred-n02123045_ILSVRC2012_val_00005358.JPEG'),\n",
       "  PosixPath('../data/imagenet_val_segmented_resized_blurred/nontarget/blurred-n07753113_ILSVRC2012_val_00011675.JPEG')]}"
      ]
     },
     "execution_count": 12,
     "metadata": {},
     "output_type": "execute_result"
    }
   ],
   "source": [
    "display_info[0]"
   ]
  },
  {
   "cell_type": "code",
   "execution_count": 13,
   "metadata": {},
   "outputs": [
    {
     "name": "stdout",
     "output_type": "stream",
     "text": [
      "display_info saved!\n"
     ]
    }
   ],
   "source": [
    "# save the updated display_info, this will overwrite the previous one\n",
    "np.save(DIR_SAVE/'display_info.npy', display_info, allow_pickle=True)\n",
    "print('display_info updated!')"
   ]
  }
 ],
 "metadata": {
  "kernelspec": {
   "display_name": "Python 3",
   "language": "python",
   "name": "python3"
  },
  "language_info": {
   "codemirror_mode": {
    "name": "ipython",
    "version": 3
   },
   "file_extension": ".py",
   "mimetype": "text/x-python",
   "name": "python",
   "nbconvert_exporter": "python",
   "pygments_lexer": "ipython3",
   "version": "3.9.18"
  }
 },
 "nbformat": 4,
 "nbformat_minor": 2
}
