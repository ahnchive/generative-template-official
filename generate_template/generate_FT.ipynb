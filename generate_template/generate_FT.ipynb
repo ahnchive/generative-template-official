{
 "cells": [
  {
   "cell_type": "code",
   "execution_count": 1,
   "metadata": {},
   "outputs": [
    {
     "name": "stderr",
     "output_type": "stream",
     "text": [
      "/home/young/anaconda3/envs/wormholes/lib/python3.9/site-packages/tqdm/auto.py:21: TqdmWarning: IProgress not found. Please update jupyter and ipywidgets. See https://ipywidgets.readthedocs.io/en/stable/user_install.html\n",
      "  from .autonotebook import tqdm as notebook_tqdm\n"
     ]
    }
   ],
   "source": [
    "import json \n",
    "import os\n",
    "import numpy as np\n",
    "import random\n",
    "from tqdm import tqdm\n",
    "from pathlib import Path\n",
    "import math\n",
    "\n",
    "import torch\n",
    "import torchvision.models as models\n",
    "import torchvision.transforms as transforms\n",
    "from PIL import Image\n",
    "\n",
    "#from sklearn.manifold import TSNE\n",
    "#from openTSNE import TSNE\n",
    "import umap.umap_ as umap\n",
    "\n",
    "import cv2\n",
    "import matplotlib.pyplot as plt\n"
   ]
  },
  {
   "cell_type": "code",
   "execution_count": 2,
   "metadata": {},
   "outputs": [],
   "source": [
    "# load json file\n",
    "with open('../dataset-info/imagenet_class_index.json') as f:\n",
    "    imagenet_class_index_dict = json.load(f)\n",
    "\n",
    "TARGET_CATEGORIES = ['dog', 'bird', 'insect', 'turtle']\n",
    "# Restricted Imagenet Range \n",
    "# https://github.com/MadryLab/robustness/blob/a9541241defd9972e9334bfcdb804f6aefe24dc7/robustness/tools/constants.py#L7\n",
    "# dog (117), cat (5), frog (3), turtle (5), bird (21), \n",
    "# monkey (14), fish (9), crab (4), insect (20) \n",
    "RESTRICTED_IMAGNET_RANGES = [(151, 267), (281, 285), \n",
    "        (30, 32), (33, 37), (80, 100), (365, 382),\n",
    "          (389, 397), (118, 121), (300, 319)]\n",
    "\n",
    "CLASS2LABEL = {-1: 'noise', 0: 'dog', 1: 'cat', \n",
    "        2: 'frog', 3: 'turtle', 4: 'bird', \n",
    "        5: 'primate', 6: 'fish', 7: 'crab', \n",
    "        8: 'insect'}\n",
    "\n",
    "LABEL2CLASS= dict((v,k) for k,v in CLASS2LABEL.items())"
   ]
  },
  {
   "cell_type": "code",
   "execution_count": 3,
   "metadata": {},
   "outputs": [
    {
     "name": "stderr",
     "output_type": "stream",
     "text": [
      "/home/young/anaconda3/envs/wormholes/lib/python3.9/site-packages/torchvision/models/_utils.py:208: UserWarning: The parameter 'pretrained' is deprecated since 0.13 and may be removed in the future, please use 'weights' instead.\n",
      "  warnings.warn(\n",
      "/home/young/anaconda3/envs/wormholes/lib/python3.9/site-packages/torchvision/models/_utils.py:223: UserWarning: Arguments other than a weight enum or `None` for 'weights' are deprecated since 0.13 and may be removed in the future. The current behavior is equivalent to passing `weights=ResNet50_Weights.IMAGENET1K_V1`. You can also use `weights=ResNet50_Weights.DEFAULT` to get the most up-to-date weights.\n",
      "  warnings.warn(msg)\n"
     ]
    }
   ],
   "source": [
    "# Check if GPU is available; otherwise use CPU\n",
    "device = torch.device(\"cuda\" if torch.cuda.is_available() else \"cpu\")\n",
    "\n",
    "# Load pretrained ResNet50 model and remove the final fully connected layer\n",
    "model = models.resnet50(pretrained=True)\n",
    "# Remove the last fully connected layer to get the 2048-d features\n",
    "model = torch.nn.Sequential(*(list(model.children())[:-1]))\n",
    "model = model.to(device)\n",
    "model.eval()\n",
    "\n",
    "# Define transformation pipeline for the images\n",
    "transform = transforms.Compose([\n",
    "    transforms.Resize((224, 224)),\n",
    "    transforms.ToTensor(),\n",
    "    transforms.Normalize(mean=[0.485, 0.456, 0.406],\n",
    "                         std=[0.229, 0.224, 0.225]),\n",
    "])"
   ]
  },
  {
   "cell_type": "markdown",
   "metadata": {},
   "source": [
    "# plot umap emedding of validation dataset"
   ]
  },
  {
   "cell_type": "code",
   "execution_count": 4,
   "metadata": {},
   "outputs": [
    {
     "name": "stdout",
     "output_type": "stream",
     "text": [
      "Source Image Directory: /data/datasets/imagenet/train\n",
      "dog # synsets:  117\n",
      "# of images 147118\n",
      "bird # synsets:  21\n",
      "# of images 27141\n",
      "insect # synsets:  20\n",
      "# of images 26000\n",
      "turtle # synsets:  5\n",
      "# of images 6500\n",
      "Source Image Directory: /data/datasets/imagenet/val\n",
      "dog # synsets:  117\n",
      "# of images 5850\n",
      "bird # synsets:  21\n",
      "# of images 1050\n",
      "insect # synsets:  20\n",
      "# of images 1000\n",
      "turtle # synsets:  5\n",
      "# of images 250\n"
     ]
    }
   ],
   "source": [
    "# get target synset and label\n",
    "# dogs, birds, turtles, and insects \n",
    "DIR_SOURCE_TRAIN = Path('/data/datasets/imagenet/train')\n",
    "DIR_SOURCE_VAL = Path('/data/datasets/imagenet/val')\n",
    "\n",
    "def get_target_imagepathlist(dir_sourceimg):\n",
    "    print('Source Image Directory:', dir_sourceimg)\n",
    "    d_imagepathlist= {}\n",
    "    for target in TARGET_CATEGORIES:\n",
    "        d_imagepathlist[target] = {}\n",
    "        target_range = RESTRICTED_IMAGNET_RANGES[LABEL2CLASS[target]]\n",
    "        target_synset = []\n",
    "        #target_synset_label = []\n",
    "        for i in range(target_range[0],target_range[1]+1):\n",
    "            synset, label = imagenet_class_index_dict[str(i)]\n",
    "            target_synset.append(synset)\n",
    "            #target_synset_label.append(label)\n",
    "\n",
    "        print(target, \"# synsets: \", len(target_synset))\n",
    "        \n",
    "        imagelist = []\n",
    "        # get imagelist for target\n",
    "        for synset in target_synset:\n",
    "            path_synset = dir_sourceimg/synset\n",
    "            imagelist.extend([path_synset/imagename for imagename in os.listdir(path_synset)])\n",
    "            \n",
    "        print('# of images', len(imagelist))\n",
    "        d_imagepathlist[target] = imagelist #[DIR_SOURCEIMG/synset/imagename for imagename in imagelist]\n",
    "\n",
    "    return d_imagepathlist\n",
    "\n",
    "d_imagepathlist_train = get_target_imagepathlist(DIR_SOURCE_TRAIN)\n",
    "d_imagepathlist_val = get_target_imagepathlist(DIR_SOURCE_VAL)\n"
   ]
  },
  {
   "cell_type": "code",
   "execution_count": 5,
   "metadata": {},
   "outputs": [
    {
     "name": "stderr",
     "output_type": "stream",
     "text": [
      "Processing dog: 100%|██████████| 5850/5850 [00:59<00:00, 97.90it/s] \n",
      "Processing bird: 100%|██████████| 1050/1050 [00:10<00:00, 98.19it/s]\n",
      "Processing insect: 100%|██████████| 1000/1000 [00:10<00:00, 95.67it/s]\n",
      "Processing turtle: 100%|██████████| 250/250 [00:02<00:00, 90.20it/s]"
     ]
    },
    {
     "name": "stdout",
     "output_type": "stream",
     "text": [
      "features shape (8150, 2048)\n"
     ]
    },
    {
     "name": "stderr",
     "output_type": "stream",
     "text": [
      "\n"
     ]
    }
   ],
   "source": [
    "d_imagepathlist= d_imagepathlist_val\n",
    "all_features = []\n",
    "all_labels = []\n",
    "for label in TARGET_CATEGORIES:\n",
    "    for img_path in tqdm(d_imagepathlist[label], desc=f\"Processing {label}\", leave=True):\n",
    "        try:\n",
    "            img = Image.open(img_path).convert('RGB')\n",
    "        except Exception as e:\n",
    "            print(f\"Error loading {img_path}: {e}\")\n",
    "            continue\n",
    "        img_tensor = transform(img).unsqueeze(0).to(device)\n",
    "            \n",
    "        # Forward pass through the network\n",
    "        with torch.no_grad():\n",
    "            feature = model(img_tensor)\n",
    "        # Flatten the feature (from shape [1, 2048, 1, 1] to [2048])\n",
    "        feature = feature.view(feature.size(0), -1).cpu().numpy().squeeze()\n",
    "        \n",
    "        all_features.append(feature)\n",
    "        all_labels.append(label)\n",
    "\n",
    "all_features = np.array(all_features)\n",
    "print(\"features shape\", all_features.shape)"
   ]
  },
  {
   "cell_type": "code",
   "execution_count": 6,
   "metadata": {},
   "outputs": [
    {
     "name": "stderr",
     "output_type": "stream",
     "text": [
      "/home/young/anaconda3/envs/wormholes/lib/python3.9/site-packages/umap/umap_.py:1952: UserWarning: n_jobs value 1 overridden to 1 by setting random_state. Use no seed for parallelism.\n",
      "  warn(\n"
     ]
    }
   ],
   "source": [
    "# --- UMAP Embedding ---\n",
    "umap_embedder = umap.UMAP(n_neighbors=200, min_dist=0.7, n_components=2, random_state=42)\n",
    "umap_results = umap_embedder.fit_transform(all_features)\n",
    "\n",
    "# --- Compute Category Centers in UMAP Space ---\n",
    "category_centers = {}\n",
    "for label in TARGET_CATEGORIES:\n",
    "    idxs = [i for i, l in enumerate(all_labels) if l == label]\n",
    "    category_centers[label] = np.mean(umap_results[idxs], axis=0)\n"
   ]
  },
  {
   "cell_type": "code",
   "execution_count": 14,
   "metadata": {},
   "outputs": [
    {
     "data": {
      "image/png": "[encoded data removed]",
      "text/plain": [
       "<Figure size 350x350 with 1 Axes>"
      ]
     },
     "metadata": {},
     "output_type": "display_data"
    }
   ],
   "source": [
    "# Define cluster colors in the same order as your TARGET_CATEGORIES\n",
    "cluster_colors = ['blue', 'lightblue', 'red', 'pink']  # 'light red' replaced by 'lightcoral'\n",
    "\n",
    "# --- Visualization ---\n",
    "plt.style.use('default')\n",
    "plt.figure(figsize=(3.5, 3.5))\n",
    "\n",
    "# Plot original UMAP embeddings by category with specified cluster colors\n",
    "for label, color in zip(TARGET_CATEGORIES, cluster_colors):\n",
    "    idxs = [i for i, l in enumerate(all_labels) if l == label]\n",
    "    plt.scatter(umap_results[idxs, 0], umap_results[idxs, 1],\n",
    "                label=f\"{label}\", s=8, alpha=0.5, color=color)\n",
    "\n",
    "# Plot category centers\n",
    "for label, center in category_centers.items():\n",
    "    plt.scatter(center[0], center[1], marker='D', s=50, color='black')\n",
    "\n",
    "plt.legend(fontsize=10, frameon=False)\n",
    "plt.xlabel(\"UMAP dimension 1\")\n",
    "plt.ylabel(\"UMAP dimension 2\")\n",
    "\n",
    "# Remove the top and right spines\n",
    "ax = plt.gca()\n",
    "ax.spines['top'].set_visible(False)\n",
    "ax.spines['right'].set_visible(False)\n",
    "ax.xaxis.set_ticks_position('bottom')\n",
    "ax.yaxis.set_ticks_position('left')\n",
    "ax.locator_params(axis='both', nbins=5)\n",
    "\n",
    "# Save the figure as an SVG file\n",
    "plt.savefig(\"../figures/savefig/umap_visualization_2color.png\", dpi=300,  bbox_inches='tight')\n",
    "plt.show()\n"
   ]
  },
  {
   "cell_type": "markdown",
   "metadata": {},
   "source": [
    "# obtain template from randomly chosen samples"
   ]
  },
  {
   "cell_type": "code",
   "execution_count": 114,
   "metadata": {},
   "outputs": [
    {
     "name": "stdout",
     "output_type": "stream",
     "text": [
      "Processing 10 images per category\n"
     ]
    },
    {
     "name": "stderr",
     "output_type": "stream",
     "text": [
      "                                                                             \r"
     ]
    },
    {
     "name": "stdout",
     "output_type": "stream",
     "text": [
      "Saving to ../checkpoints/template/d_resnet50_ten_template_features_from10.npz\n",
      "Saving to ../checkpoints/template/d_resnet50_ten_template_features_from10_avgdist_from_umapcenter_and_sd.npy\n",
      "Processing 50 images per category\n"
     ]
    },
    {
     "name": "stderr",
     "output_type": "stream",
     "text": [
      "                                                                              \r"
     ]
    },
    {
     "name": "stdout",
     "output_type": "stream",
     "text": [
      "Saving to ../checkpoints/template/d_resnet50_ten_template_features_from50.npz\n",
      "Saving to ../checkpoints/template/d_resnet50_ten_template_features_from50_avgdist_from_umapcenter_and_sd.npy\n",
      "Processing 100 images per category\n"
     ]
    },
    {
     "name": "stderr",
     "output_type": "stream",
     "text": [
      "                                                                                \r"
     ]
    },
    {
     "name": "stdout",
     "output_type": "stream",
     "text": [
      "Saving to ../checkpoints/template/d_resnet50_ten_template_features_from100.npz\n",
      "Saving to ../checkpoints/template/d_resnet50_ten_template_features_from100_avgdist_from_umapcenter_and_sd.npy\n",
      "Processing 500 images per category\n"
     ]
    },
    {
     "name": "stderr",
     "output_type": "stream",
     "text": [
      "                                                                                \r"
     ]
    },
    {
     "name": "stdout",
     "output_type": "stream",
     "text": [
      "Saving to ../checkpoints/template/d_resnet50_ten_template_features_from500.npz\n",
      "Saving to ../checkpoints/template/d_resnet50_ten_template_features_from500_avgdist_from_umapcenter_and_sd.npy\n",
      "Processing 1000 images per category\n"
     ]
    },
    {
     "name": "stderr",
     "output_type": "stream",
     "text": [
      "                                                                                 \r"
     ]
    },
    {
     "name": "stdout",
     "output_type": "stream",
     "text": [
      "Saving to ../checkpoints/template/d_resnet50_ten_template_features_from1000.npz\n",
      "Saving to ../checkpoints/template/d_resnet50_ten_template_features_from1000_avgdist_from_umapcenter_and_sd.npy\n"
     ]
    }
   ],
   "source": [
    "def get_target_template_features(d_imagepathlist, n_samples, save=False):\n",
    "    # Process new images \n",
    "    d_features_mean_list = {}\n",
    "\n",
    "    for label in TARGET_CATEGORIES:\n",
    "        features_mean_list = []\n",
    "        #new_features_mean_labels = []\n",
    "        for i in range(10):\n",
    "            random.seed(42+i)\n",
    "            d_imagepathlist_sampled = random.sample(d_imagepathlist[label], n_samples)\n",
    "            \n",
    "            features = []\n",
    "            for img_path in tqdm(d_imagepathlist_sampled, desc=f\"Processing new {i, label}\", leave=False):\n",
    "                try:\n",
    "                    img = Image.open(img_path).convert('RGB')\n",
    "                except Exception as e:\n",
    "                    print(f\"Error loading {img_path}: {e}\")\n",
    "                    continue\n",
    "                img_tensor = transform(img).unsqueeze(0).to(device)\n",
    "                with torch.no_grad():\n",
    "                    feature = model(img_tensor)\n",
    "                feature = feature.view(feature.size(0), -1).cpu().numpy().squeeze()\n",
    "                features.append(feature)\n",
    "                \n",
    "            features_mean = np.mean(np.array(features), axis=0)\n",
    "            features_mean_list.append(features_mean)\n",
    "            #new_features_mean_labels.append(label)\n",
    "        \n",
    "        features_mean_list = np.array(features_mean_list)\n",
    "        d_features_mean_list[label] = features_mean_list\n",
    "    if save:\n",
    "        save_path = f'../checkpoints/template/d_resnet50_ten_template_features_from{n_samples}.npz'\n",
    "        print(f\"Saving to {save_path}\")\n",
    "        np.savez(save_path, d_features_mean_list)\n",
    "    #test = np.load(f'../checkpoints/template/d_resnet50_features_mean{N_IMAGES_PER_CATEGORY}.npy', allow_pickle=True).item()\n",
    "    return d_features_mean_list\n",
    "\n",
    "\n",
    "for N_IMAGES_PER_CATEGORY in [10, 50, 100, 500, 1000]:\n",
    "    print(f\"Processing {N_IMAGES_PER_CATEGORY} images per category\")\n",
    "    d_new_features_mean_list = get_target_template_features(d_imagepathlist_train, N_IMAGES_PER_CATEGORY, save=True)\n",
    "\n",
    "    # get distance from the umap center\n",
    "    d_distance = {}\n",
    "    for label in TARGET_CATEGORIES:\n",
    "        d_distance[label] = []\n",
    "        new_features_mean_list = d_new_features_mean_list[label]\n",
    "        new_umap_coords = umap_embedder.transform(new_features_mean_list)\n",
    "        distance_list =[]\n",
    "        for i, coord in enumerate(new_umap_coords):\n",
    "            center = category_centers[label]\n",
    "            distance = np.linalg.norm(coord - center)\n",
    "            distance_list.append(distance)\n",
    "            #print(f\"New image {i} (label: {label}) is {distance:.2f} units away from its category center.\")\n",
    "        distance_mean = np.mean(distance_list)\n",
    "        distance_sd = np.std(distance_list)\n",
    "        d_distance[label] = (distance_mean, distance_sd)\n",
    "\n",
    "    save_path = f'../checkpoints/template/d_resnet50_ten_template_features_from{N_IMAGES_PER_CATEGORY}_avgdist_from_umapcenter_and_sd.npy'\n",
    "    print(f\"Saving to {save_path}\")\n",
    "    np.save(save_path, d_distance)\n"
   ]
  },
  {
   "cell_type": "code",
   "execution_count": 3,
   "metadata": {},
   "outputs": [
    {
     "data": {
      "image/png": "[encoded data removed]",
      "text/plain": [
       "<Figure size 380x350 with 1 Axes>"
      ]
     },
     "metadata": {},
     "output_type": "display_data"
    }
   ],
   "source": [
    "# get distance from the center of each umap category cluster\n",
    "\n",
    "import numpy as np\n",
    "import matplotlib.pyplot as plt\n",
    "#import seaborn as sns\n",
    "\n",
    "# Set a scientific style with seaborn\n",
    "#sns.set(style=\"white\", context=\"paper\", font_scale=1.1)\n",
    "#plt.rcParams[\"axes.edgecolor\"] = \"0.2\"\n",
    "\n",
    "# Example sample sizes and file paths\n",
    "sample_sizes = [10, 50, 100, 500, 1000]\n",
    "file_names = [f\"../checkpoints/template/d_resnet50_ten_template_features_from{s}_avgdist_from_umapcenter_and_sd.npy\" for s in sample_sizes]\n",
    "results = {cat: {\"dist\": [], \"sd\": []} for cat in TARGET_CATEGORIES}\n",
    "\n",
    "# Load data from each file\n",
    "for file in file_names:\n",
    "    data = np.load(file, allow_pickle=True).item()\n",
    "    for cat in TARGET_CATEGORIES:\n",
    "        dist, sd = data[cat]\n",
    "        results[cat][\"dist\"].append(dist)\n",
    "        results[cat][\"sd\"].append(sd)\n",
    "\n",
    "# Define colors for each category\n",
    "colors = {'dog': 'blue', 'bird': 'lightblue', 'insect': 'red', 'turtle': 'pink'}\n",
    "\n",
    "# Create equally spaced x-positions for the discrete sample sizes\n",
    "x_positions = np.arange(len(sample_sizes))\n",
    "\n",
    "plt.figure(figsize=(3.8, 3.5))\n",
    "\n",
    "# Plot each category with a smooth shaded error region\n",
    "for cat in TARGET_CATEGORIES:\n",
    "    y = np.array(results[cat][\"dist\"])\n",
    "    # Compute the standard error (adjust divisor as needed)\n",
    "    err = np.array(results[cat][\"sd\"]) / np.sqrt(10 - 1)\n",
    "    # Plot the mean line with markers\n",
    "    plt.plot(x_positions, y, marker=None, linestyle='-', label=cat, color=colors[cat], linewidth=1.5)\n",
    "    # Fill the area between y-err and y+err for a smooth error shading\n",
    "    plt.fill_between(x_positions, y - err, y + err, color=colors[cat], alpha=0.2)\n",
    "\n",
    "plt.xlabel(\"number of samples\", fontsize=12)\n",
    "plt.ylabel(\"distance\", fontsize=12)\n",
    "\n",
    "# Customize axes: remove top/right spines and adjust tick parameters\n",
    "ax = plt.gca()\n",
    "ax.spines['top'].set_visible(False)\n",
    "ax.spines['right'].set_visible(False)\n",
    "ax.xaxis.set_ticks_position('bottom')\n",
    "ax.yaxis.set_ticks_position('left')\n",
    "ax.set_xticks(x_positions)\n",
    "ax.set_xticklabels(sample_sizes)\n",
    "ax.tick_params(axis='both', which='both', direction='out', length=4, width=1)\n",
    "ax.set_yticks([0.0, 0.5, 1.0, 1.5, 2.0])\n",
    "\n",
    "plt.legend(fontsize=10, frameon=False)\n",
    "plt.tight_layout()\n",
    "plt.savefig(\"../figures/savefig/distance_by_samples_shading_2color.png\", dpi=300, bbox_inches='tight')\n",
    "plt.show()\n"
   ]
  },
  {
   "cell_type": "code",
   "execution_count": 194,
   "metadata": {},
   "outputs": [],
   "source": [
    "# # Compute t-SNE embedding using openTSNE\n",
    "# tsne_model = TSNE(\n",
    "#     n_components=2,\n",
    "#     perplexity=30,              # Adjust as needed based on your dataset\n",
    "#     initialization=\"pca\",       # Faster convergence than random initialization\n",
    "#     negative_gradient_method=\"fft\",  # FFT acceleration for negative gradient computation\n",
    "#     n_jobs=4,                   # Use 4 CPU cores (adjust based on your system)\n",
    "#     verbose=True,\n",
    "#     random_state=42,\n",
    "#     n_iter=500                  # Adjust the number of iterations if acceptable\n",
    "# )\n",
    "# embedding = tsne_model.fit(all_features)  # embedding now holds the 2D coordinates for original images\n",
    "# tsne_results = embedding  # Alias for clarity\n",
    "\n",
    "# # Compute category centers in the t-SNE space\n",
    "# category_centers = {}\n",
    "# for label in TARGET_CATEGORIES:\n",
    "#     idxs = [i for i, l in enumerate(all_labels) if l == label]\n",
    "#     category_centers[label] = np.mean(embedding[idxs], axis=0)\n",
    "\n",
    "# # Plot original t-SNE points for each category\n",
    "# plt.figure(figsize=(10, 10))\n",
    "\n",
    "# for label in TARGET_CATEGORIES:\n",
    "#     idxs = [i for i, l in enumerate(all_labels) if l == label]\n",
    "#     plt.scatter(embedding[idxs, 0], embedding[idxs, 1],\n",
    "#                 label=f\"{label} (original)\", alpha=0.6)\n",
    "    \n",
    "# # Plot category centers\n",
    "# for label, center in category_centers.items():\n",
    "#     plt.scatter(center[0], center[1], label=f\"{label} center\",\n",
    "#                 marker='D', s=150, edgecolor='black')\n",
    "    \n",
    "\n",
    "# plt.legend()\n",
    "# plt.title(\"t-SNE Visualization with Category Centers\")\n",
    "# plt.xlabel(\"t-SNE dimension 1\")\n",
    "# plt.ylabel(\"t-SNE dimension 2\")\n",
    "# plt.show()\n"
   ]
  },
  {
   "cell_type": "code",
   "execution_count": null,
   "metadata": {},
   "outputs": [],
   "source": [
    "\n",
    "# image = cv2.imread(d_imagepathlist['dog'][0])\n",
    "# image = cv2.cvtColor(image, cv2.COLOR_BGR2RGB)\n",
    "\n",
    "# # show image\n",
    "# plt.figure(figsize=(10,10))\n",
    "# plt.imshow(image)\n",
    "# plt.axis('on')\n",
    "# plt.show()"
   ]
  },
  {
   "cell_type": "code",
   "execution_count": null,
   "metadata": {},
   "outputs": [],
   "source": []
  }
 ],
 "metadata": {
  "kernelspec": {
   "display_name": "wormholes",
   "language": "python",
   "name": "wormholes"
  },
  "language_info": {
   "codemirror_mode": {
    "name": "ipython",
    "version": 3
   },
   "file_extension": ".py",
   "mimetype": "text/x-python",
   "name": "python",
   "nbconvert_exporter": "python",
   "pygments_lexer": "ipython3",
   "version": "3.9.18"
  }
 },
 "nbformat": 4,
 "nbformat_minor": 2
}
